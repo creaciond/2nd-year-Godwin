{
 "cells": [
  {
   "cell_type": "markdown",
   "metadata": {},
   "source": [
    "# Python и API: базовое\n",
    "## Модули\n",
    "Для работы с запросами можно использовать модуль `requests` (инструкции по установке [тут](http://www.python-requests.org/en/latest/user/install/#install), ещё информация [здесь](http://www.python-requests.org/en/latest/)). Так как API возвращает все данные в формате JSON, можно (и нужно) использовать модуль `json`. Устанавливаются они так:\n",
    "\n",
    "```python\n",
    "import requests\n",
    "import json\n",
    "```"
   ]
  },
  {
   "cell_type": "markdown",
   "metadata": {},
   "source": [
    "## requests\n",
    "Самая базовая функция для того, чтобы вытащить какие-то данные — `requests.get`, которой сообщается ссылка. Параметры, если они есть, можно указать непосредственно в ссылке, а можно перед этим составить словарь и передать его как значение переменной `params`:\n",
    "\n",
    "```python\n",
    "link = 'http://%something%'\n",
    "parameters = {par1: value1, par2: value2}\n",
    "response = requests.get(link, params=parameters)\n",
    "```"
   ]
  },
  {
   "cell_type": "markdown",
   "metadata": {},
   "source": [
    "### Что можно дальше делать с response?\n",
    "*здесь и дальше — в применении к api.vk.com*\n",
    "\n",
    "* `response.status_code` — возвращает степень успешности операции:\n",
    "  * 200 – всё ок, нам что-то, возможно, вернулось\n",
    "  * 301 – нас перекинули на другой сервер\n",
    "  * 401 – сервер считает, что мы не авторизовались. По-видимому, фиксится запросом типа `requests.get(link, auth=('user', 'pass'))`\n",
    "  * 400 – плохой запрос (не хватает данных, они не того формата, etc etc)\n",
    "  * 403 – у нас нет права на просмотр\n",
    "  * 404 – не найдено\n",
    "* `response.headers` — значения технического характера, для api.vk.com они такие:\n",
    "```\n",
    "Server: Apache\n",
    "Date: Sun, 20 Nov 2016 14:01:27 GMT\n",
    "Content-Type: application/json; charset=utf-8\n",
    "Content-Length: 101\n",
    "Connection: keep-alive\n",
    "X-Powered-By: PHP/3.7553\n",
    "Set-Cookie: remixlang=0; expires=Sat, 11 Nov 2017 07:56:18 GMT; path=/; domain=.vk.com\n",
    "Pragma: no-cache\n",
    "Cache-control: no-store\n",
    "Content-Encoding: gzip\n",
    "```\n",
    "* `response.encoding` — кодировка результата (по умолчанию ждём 'utf-8')\n",
    "* `response.text` — возвращает **строку** с ключом response и значением-словарём, где лежит вся информация-JSON *в том порядке, как она выдаётся на странице в браузере*\n",
    "* `response.json()` — **метод**, возвращающий словарь, похожий на `response.text`, но, как и у любого другого словаря, ключи неупорядочены"
   ]
  },
  {
   "cell_type": "markdown",
   "metadata": {},
   "source": [
    "## JSON\n",
    "**JavaScript Object Notation** — такой формат данных, подробнее [в википедии](https://ru.wikipedia.org/wiki/JSON) и [на вики-репозитории курса](https://github.com/elmiram/2016learnpython/blob/master/5%20%D0%A1%D0%B5%D0%BC%D0%B8%D0%BD%D0%B0%D1%80%20-%20json.ipynb) (там вообще здорово написано). \n",
    "\n",
    "У модуля `json` есть две основные функции:\n",
    "* `json.dumps(py_object)` — из объекта питона в строку JSON,\n",
    "* `json.loads(json_string)` — из строки JSON в объект питона (словарь).\n",
    "\n",
    "Вот как это работает:"
   ]
  },
  {
   "cell_type": "code",
   "execution_count": null,
   "metadata": {
    "collapsed": true
   },
   "outputs": [],
   "source": [
    "import json\n",
    "\n",
    "pyDict = {'type':'dictionary', 'language':'Python'}\n",
    "print(pyDict)\n",
    "print(type(pyDict))\n",
    "# >>> {'language': 'Python', 'type': 'dictionary'}\n",
    "# >>> <class 'dict'>\n",
    "\n",
    "jsonObj = json.dumps(pyDict)\n",
    "print(jsonObj)\n",
    "print(type(jsonObj))\n",
    "# >>> {\"language\": \"Python\", \"type\": \"dictionary\"}\n",
    "# >>> <class 'str'>\n",
    "\n",
    "jsonToPy = json.loads(jsonObj)\n",
    "print(jsonToPy)\n",
    "print(type(jsonToPy))\n",
    "# >>> {'language': 'Python', 'type': 'dictionary'}\n",
    "# >>> <class 'dict'>\n",
    "\n",
    "print(pyDict == jsonToPy)\n",
    "# >>> True"
   ]
  },
  {
   "cell_type": "markdown",
   "metadata": {},
   "source": [
    "## Мини-пример\n",
    "Вытаскиваем из API Вконтакте информацию о пользователе с id 92283380, используя API версии 5.52. Сначала хотим понять, удалось ли это, потом построчно выводим информацию, которую получили, а после неё — техническую информацию."
   ]
  },
  {
   "cell_type": "code",
   "execution_count": null,
   "metadata": {
    "collapsed": true
   },
   "outputs": [],
   "source": [
    "import requests\n",
    "import json\n",
    "\n",
    "\n",
    "parameters = {'user_id': '92283380', 'v': '5.52'}\n",
    "response = requests.get('https://api.vk.com/method/users.get', params=parameters)\n",
    "print('1) Status code: ' + str(response.status_code))\n",
    "print('\\r\\n2) response.json():')\n",
    "print(response.json())\n",
    "print('\\r\\n2.5) response.json() построчно')\n",
    "for each in response.json()['response']:\n",
    "    for eachItem in each:\n",
    "        print('%s: %s' % (eachItem, each[eachItem]))\n",
    "print('\\r\\n3) Headers:')\n",
    "for header in response.headers:\n",
    "    print(header + ': ' + response.headers[header])\n",
    "print('\\r\\n4) response.text:' + response.text)"
   ]
  },
  {
   "cell_type": "markdown",
   "metadata": {},
   "source": [
    "Получаем вывод:\n",
    "\n",
    "```\n",
    "1) Status code: 200\n",
    "\n",
    "2) response.json():\n",
    "{'response': [{'id': 92283380, 'last_name': 'Максимова', 'first_name': 'Дарья'}]}\n",
    "\n",
    "2.5) response.json() построчно\n",
    "id: 92283380\n",
    "last_name: Максимова\n",
    "first_name: Дарья\n",
    "\n",
    "3) Headers:\n",
    "Server: Apache\n",
    "Date: Sun, 20 Nov 2016 14:54:46 GMT\n",
    "Content-Type: application/json; charset=utf-8\n",
    "Content-Length: 101\n",
    "Connection: keep-alive\n",
    "X-Powered-By: PHP/3.7553\n",
    "Set-Cookie: remixlang=0; expires=Wed, 15 Nov 2017 03:41:08 GMT; path=/; domain=.vk.com\n",
    "Pragma: no-cache\n",
    "Cache-control: no-store\n",
    "Content-Encoding: gzip\n",
    "\n",
    "4) response.text:{\"response\":[{\"id\":92283380,\"first_name\":\"Дарья\",\"last_name\":\"Максимова\"}]}\n",
    "```"
   ]
  },
  {
   "cell_type": "markdown",
   "metadata": {},
   "source": [
    "## Код из этого конспекта\n",
    "* [py-json-py](./py-json-py.py) — преобразования из объектов Питона в строки JSON и обратно\n",
    "* [api-user-data-retrieval](./api-user-data-retrieval.py) — код мини-примера"
   ]
  },
  {
   "cell_type": "markdown",
   "metadata": {},
   "source": [
    "## Больше информации и по-английски\n",
    "\n",
    "https://www.dataquest.io/blog/python-api-tutorial/"
   ]
  }
 ],
 "metadata": {
  "kernelspec": {
   "display_name": "Python 3",
   "language": "python",
   "name": "python3"
  },
  "language_info": {
   "codemirror_mode": {
    "name": "ipython",
    "version": 3
   },
   "file_extension": ".py",
   "mimetype": "text/x-python",
   "name": "python",
   "nbconvert_exporter": "python",
   "pygments_lexer": "ipython3",
   "version": "3.5.1"
  }
 },
 "nbformat": 4,
 "nbformat_minor": 1
}
